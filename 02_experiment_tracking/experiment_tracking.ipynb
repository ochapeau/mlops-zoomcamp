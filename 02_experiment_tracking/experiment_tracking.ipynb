{
 "cells": [
  {
   "cell_type": "markdown",
   "id": "3f6b5334-0ac5-4d09-bf1f-b98c1d5b5313",
   "metadata": {},
   "source": [
    "# MLOps Zoomcamp Homework 2"
   ]
  },
  {
   "cell_type": "code",
   "execution_count": 23,
   "id": "d301f7d2-5e81-4993-95c2-6ec6a73f97cb",
   "metadata": {},
   "outputs": [],
   "source": [
    "import os\n",
    "from pathlib import Path"
   ]
  },
  {
   "cell_type": "code",
   "execution_count": 24,
   "id": "2a0295e4-820a-410d-88ac-09ee012cd21c",
   "metadata": {},
   "outputs": [],
   "source": [
    "# Define some paths\n",
    "base_dir = Path(os.getcwd())\n",
    "scripts_dir = base_dir / \"homework\"\n",
    "data_dir = base_dir / \"data\"\n",
    "output_dir = base_dir  / \"output\""
   ]
  },
  {
   "cell_type": "markdown",
   "id": "cb702ea5-07ae-494a-a95a-46324cb939ef",
   "metadata": {},
   "source": [
    "## Questions"
   ]
  },
  {
   "cell_type": "markdown",
   "id": "c2498009-61ca-4017-9410-f172029598cc",
   "metadata": {},
   "source": [
    "### Q1"
   ]
  },
  {
   "cell_type": "code",
   "execution_count": 25,
   "id": "4d7eac44-8961-4f7f-aad1-3c2ebb97ee98",
   "metadata": {},
   "outputs": [
    {
     "name": "stdout",
     "output_type": "stream",
     "text": [
      "mlflow, version 2.3.2\n"
     ]
    }
   ],
   "source": [
    "!mlflow --version"
   ]
  },
  {
   "cell_type": "markdown",
   "id": "298af13a-e83b-4da2-959d-1d9d195c5a2c",
   "metadata": {},
   "source": [
    "### Q2"
   ]
  },
  {
   "cell_type": "code",
   "execution_count": 26,
   "id": "a6a06561-dc53-477c-ac4e-32c7805c951e",
   "metadata": {},
   "outputs": [],
   "source": [
    "# Run the preprocess_data script\n",
    "os.chdir(scripts_dir)\n",
    "!python preprocess_data.py --raw_data_path {data_dir} --dest_path {output_dir}\n",
    "os.chdir(base_dir)"
   ]
  },
  {
   "cell_type": "code",
   "execution_count": 33,
   "id": "df48a9d1-10e5-4d7e-8101-2354ac65974c",
   "metadata": {},
   "outputs": [
    {
     "data": {
      "text/plain": [
       "'The DictVectorizer file has a size of 150 KB'"
      ]
     },
     "execution_count": 33,
     "metadata": {},
     "output_type": "execute_result"
    }
   ],
   "source": [
    "dv_file = output_dir / \"dv.pkl\"\n",
    "f\"The DictVectorizer file has a size of {dv_file.stat().st_size/(1<<10):.0f} KB\""
   ]
  },
  {
   "cell_type": "markdown",
   "id": "44cec6e9-960d-4ad6-a054-8484520f4a03",
   "metadata": {},
   "source": [
    "### Q3"
   ]
  },
  {
   "cell_type": "code",
   "execution_count": 28,
   "id": "fd9b1f06-fc06-47a7-b9cc-8bc2d8eca3af",
   "metadata": {},
   "outputs": [
    {
     "name": "stdout",
     "output_type": "stream",
     "text": [
      "2023/06/01 17:14:10 INFO mlflow.tracking.fluent: Experiment with name 'nyc-taxi-experiment-autolog' does not exist. Creating a new experiment.\n",
      "2023/06/01 17:14:10 INFO mlflow.tracking.fluent: Autologging successfully enabled for sklearn.\n",
      "2023/06/01 17:14:21 WARNING mlflow.utils.autologging_utils: MLflow autologging encountered a warning: \"/Users/olivier/Documents/courses/mlops-zoomcamp/02_experiment_tracking/venv/lib/python3.10/site-packages/_distutils_hack/__init__.py:33: UserWarning: Setuptools is replacing distutils.\"\n"
     ]
    }
   ],
   "source": [
    "# Run the train script\n",
    "os.chdir(scripts_dir)\n",
    "!python train.py --data_path {output_dir}\n",
    "os.chdir(base_dir)"
   ]
  },
  {
   "cell_type": "code",
   "execution_count": 8,
   "id": "3b95d45c-e038-48f6-a769-8d6817f75071",
   "metadata": {},
   "outputs": [
    {
     "data": {
      "text/markdown": [
       "Then I ran the command `mlflow ui` in the '/Users/olivier/Documents/courses/mlops-zoomcamp/02_experiment_tracking' directory"
      ],
      "text/plain": [
       "<IPython.core.display.Markdown object>"
      ]
     },
     "execution_count": 8,
     "metadata": {},
     "output_type": "execute_result"
    }
   ],
   "source": [
    "from IPython.display import Markdown as md\n",
    "\n",
    "md(f\"Then I ran the command `mlflow ui` in the '{base_dir}' directory\")"
   ]
  },
  {
   "cell_type": "markdown",
   "id": "ef3b95ab-042d-4b1c-af66-37f887bf41b5",
   "metadata": {},
   "source": [
    "Below is the screenshot of the first parameters of the run in `mlflow ui`\n",
    "![mlflow ui parameters](images/q3.png)\n",
    "The value of `max_depth` is 10"
   ]
  },
  {
   "cell_type": "markdown",
   "id": "a978baae-19f4-4a0d-a23b-fe02a15edbb2",
   "metadata": {},
   "source": [
    "### Q4"
   ]
  },
  {
   "cell_type": "code",
   "execution_count": 29,
   "id": "00644f75-3509-4c87-9283-aac0e982b536",
   "metadata": {},
   "outputs": [
    {
     "data": {
      "text/markdown": [
       "Before running the following sections, it is needed to run: <br />`mlflow ui --backend-store-uri sqlite:///mlflow.db --artifacts-destination ./artifacts`<br /> from the '/Users/olivier/Documents/courses/mlops-zoomcamp/02_experiment_tracking' directory"
      ],
      "text/plain": [
       "<IPython.core.display.Markdown object>"
      ]
     },
     "execution_count": 29,
     "metadata": {},
     "output_type": "execute_result"
    }
   ],
   "source": [
    "md(f\"Before running the following sections, it is needed to run: <br />`mlflow ui --backend-store-uri sqlite:///mlflow.db --artifacts-destination ./artifacts`<br /> from the '{base_dir}' directory\")"
   ]
  },
  {
   "cell_type": "code",
   "execution_count": 34,
   "id": "84d44783-aeb9-4866-9fc2-7fce84c946ed",
   "metadata": {},
   "outputs": [
    {
     "name": "stdout",
     "output_type": "stream",
     "text": [
      "2023/06/01 17:19:12 INFO mlflow.tracking.fluent: Experiment with name 'random-forest-hyperopt' does not exist. Creating a new experiment.\n",
      "\u001b[32m[I 2023-06-01 17:19:12,890]\u001b[0m A new study created in memory with name: no-name-bcdaccb4-3232-4d25-a59a-095a1177b19f\u001b[0m\n",
      "\u001b[32m[I 2023-06-01 17:19:14,176]\u001b[0m Trial 0 finished with value: 2.451379690825458 and parameters: {'n_estimators': 25, 'max_depth': 20, 'min_samples_split': 8, 'min_samples_leaf': 3}. Best is trial 0 with value: 2.451379690825458.\u001b[0m\n",
      "\u001b[32m[I 2023-06-01 17:19:14,876]\u001b[0m Trial 1 finished with value: 2.4667366020368333 and parameters: {'n_estimators': 16, 'max_depth': 4, 'min_samples_split': 2, 'min_samples_leaf': 4}. Best is trial 0 with value: 2.451379690825458.\u001b[0m\n",
      "\u001b[32m[I 2023-06-01 17:19:15,860]\u001b[0m Trial 2 finished with value: 2.449827329704216 and parameters: {'n_estimators': 34, 'max_depth': 15, 'min_samples_split': 2, 'min_samples_leaf': 4}. Best is trial 2 with value: 2.449827329704216.\u001b[0m\n",
      "\u001b[32m[I 2023-06-01 17:19:16,257]\u001b[0m Trial 3 finished with value: 2.460983516558473 and parameters: {'n_estimators': 44, 'max_depth': 5, 'min_samples_split': 3, 'min_samples_leaf': 1}. Best is trial 2 with value: 2.449827329704216.\u001b[0m\n",
      "\u001b[32m[I 2023-06-01 17:19:16,704]\u001b[0m Trial 4 finished with value: 2.453877262701052 and parameters: {'n_estimators': 22, 'max_depth': 11, 'min_samples_split': 5, 'min_samples_leaf': 2}. Best is trial 2 with value: 2.449827329704216.\u001b[0m\n",
      "\u001b[32m[I 2023-06-01 17:19:16,937]\u001b[0m Trial 5 finished with value: 2.4720122094960733 and parameters: {'n_estimators': 35, 'max_depth': 3, 'min_samples_split': 4, 'min_samples_leaf': 2}. Best is trial 2 with value: 2.449827329704216.\u001b[0m\n",
      "\u001b[32m[I 2023-06-01 17:19:17,899]\u001b[0m Trial 6 finished with value: 2.4516421799356767 and parameters: {'n_estimators': 28, 'max_depth': 16, 'min_samples_split': 3, 'min_samples_leaf': 3}. Best is trial 2 with value: 2.449827329704216.\u001b[0m\n",
      "\u001b[32m[I 2023-06-01 17:19:18,087]\u001b[0m Trial 7 finished with value: 2.5374040268274087 and parameters: {'n_estimators': 34, 'max_depth': 1, 'min_samples_split': 7, 'min_samples_leaf': 1}. Best is trial 2 with value: 2.449827329704216.\u001b[0m\n",
      "\u001b[32m[I 2023-06-01 17:19:18,570]\u001b[0m Trial 8 finished with value: 2.455971238567075 and parameters: {'n_estimators': 12, 'max_depth': 19, 'min_samples_split': 10, 'min_samples_leaf': 4}. Best is trial 2 with value: 2.449827329704216.\u001b[0m\n",
      "\u001b[32m[I 2023-06-01 17:19:18,719]\u001b[0m Trial 9 finished with value: 2.486106021576535 and parameters: {'n_estimators': 22, 'max_depth': 2, 'min_samples_split': 8, 'min_samples_leaf': 2}. Best is trial 2 with value: 2.449827329704216.\u001b[0m\n"
     ]
    }
   ],
   "source": [
    "# Run the hpo script\n",
    "os.chdir(scripts_dir)\n",
    "!python hpo.py --data_path {output_dir}\n",
    "os.chdir(base_dir)"
   ]
  },
  {
   "cell_type": "markdown",
   "id": "b123a950-1bd3-498f-97e5-66da3fc424d2",
   "metadata": {},
   "source": [
    "Below is the screenshot of the 10 runs for the experiment `random-forest-hyperopt`:\n",
    "![random-forest-hyperopt runs](images/q4.png)\n",
    "The best value for the metric `rmse` is 2.45 (on the first line)"
   ]
  },
  {
   "cell_type": "markdown",
   "id": "f3b1d656-a68f-4e14-83d6-2cd5b005ccc8",
   "metadata": {},
   "source": [
    "### Q5"
   ]
  },
  {
   "cell_type": "code",
   "execution_count": 35,
   "id": "d7b5a5b1-7e25-4150-9c72-b56f15419948",
   "metadata": {},
   "outputs": [
    {
     "name": "stdout",
     "output_type": "stream",
     "text": [
      "2023/06/01 17:19:23 INFO mlflow.tracking.fluent: Experiment with name 'random-forest-best-models' does not exist. Creating a new experiment.\n",
      "2023/06/01 17:19:28 WARNING mlflow.utils.autologging_utils: MLflow autologging encountered a warning: \"/Users/olivier/Documents/courses/mlops-zoomcamp/02_experiment_tracking/venv/lib/python3.10/site-packages/_distutils_hack/__init__.py:33: UserWarning: Setuptools is replacing distutils.\"\n",
      "Experiment name: random-forest-best-models\n",
      "Best model id: ab8972f5953e487eba63a79bd3e4c271, best model test_rmse: 2.2855\n",
      "Successfully registered model 'nyc-taxi-regressor-best-rf'.\n",
      "2023/06/01 17:19:40 INFO mlflow.tracking._model_registry.client: Waiting up to 300 seconds for model version to finish creation. Model name: nyc-taxi-regressor-best-rf, version 1\n",
      "Created version '1' of model 'nyc-taxi-regressor-best-rf'.\n"
     ]
    }
   ],
   "source": [
    "# Run the register_model script\n",
    "os.chdir(scripts_dir)\n",
    "!python register_model.py --data_path {output_dir}\n",
    "os.chdir(base_dir)"
   ]
  },
  {
   "cell_type": "markdown",
   "id": "b2334f36-93c3-4e3e-8026-0d962b23d715",
   "metadata": {},
   "source": [
    "The best model for the experiment `random-forest-best-models` has a `test_rmse` of 2.285"
   ]
  },
  {
   "cell_type": "markdown",
   "id": "24fd5275-5484-4250-92dc-22984103ef44",
   "metadata": {},
   "source": [
    "### Q6"
   ]
  },
  {
   "cell_type": "markdown",
   "id": "fcc55cac-3080-4de0-a63e-bc955a72cfb3",
   "metadata": {},
   "source": [
    "Below is the screenshot of best model in the registry for the experiment `random-forest-best-models`:\n",
    "![random-forest-best-models best model](images/q6.png)\n",
    "We can see the **version** of the model. However there is no source experiment, but the source run, and no signature."
   ]
  },
  {
   "cell_type": "code",
   "execution_count": null,
   "id": "9d63dbe0-205c-4a56-bf6d-ca2d32186ed1",
   "metadata": {},
   "outputs": [],
   "source": []
  }
 ],
 "metadata": {
  "kernelspec": {
   "display_name": "Python 3 (ipykernel)",
   "language": "python",
   "name": "python3"
  },
  "language_info": {
   "codemirror_mode": {
    "name": "ipython",
    "version": 3
   },
   "file_extension": ".py",
   "mimetype": "text/x-python",
   "name": "python",
   "nbconvert_exporter": "python",
   "pygments_lexer": "ipython3",
   "version": "3.10.10"
  }
 },
 "nbformat": 4,
 "nbformat_minor": 5
}
