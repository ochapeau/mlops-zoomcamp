{
 "cells": [
  {
   "cell_type": "markdown",
   "id": "d5ccb4d1-545a-412f-a771-4a9d09011a93",
   "metadata": {},
   "source": [
    "# MLOps Zoomcamp Homework 4"
   ]
  },
  {
   "cell_type": "markdown",
   "id": "55b5c8b4-c539-47ec-834b-f9b22d79b05d",
   "metadata": {},
   "source": [
    "## Q1"
   ]
  },
  {
   "cell_type": "markdown",
   "id": "efffb7fb-e259-4aca-af23-14688c257796",
   "metadata": {},
   "source": [
    "Result of running `np.std(y_pred)` in the `starter.ipynb`:<br />\n",
    "The standard deviation of y_pred is `5.28140357655334`"
   ]
  },
  {
   "cell_type": "markdown",
   "id": "0a9eb11a-8d69-45e3-b298-286531dea661",
   "metadata": {},
   "source": [
    "## Q2"
   ]
  },
  {
   "cell_type": "markdown",
   "id": "3f645dfb-6dea-4040-b44a-cabed31bfb97",
   "metadata": {},
   "source": [
    "The size of the df_result parquet file is 58M. Result of the ls command:<br />\n",
    "`-rw-r--r--@ 1 olivier  staff    57M Jun 28 21:02 outputs/df_result.parquet`"
   ]
  },
  {
   "cell_type": "markdown",
   "id": "51d9eb66-5194-425b-b212-039cf35fc27d",
   "metadata": {},
   "source": [
    "## Q3"
   ]
  },
  {
   "cell_type": "markdown",
   "id": "84d7b9a1-4930-438e-920f-2f5474e6db2a",
   "metadata": {},
   "source": [
    "The command to convert a notebook to a script is:\n",
    "`jupyter nbconvert --to script starter.ipynb`"
   ]
  },
  {
   "cell_type": "markdown",
   "id": "8b18cb3c-2847-4b3e-902b-7973f17323f3",
   "metadata": {},
   "source": [
    "## Q4"
   ]
  },
  {
   "cell_type": "markdown",
   "id": "a99b4c89-e69f-4f72-98df-61c2a855e272",
   "metadata": {},
   "source": [
    "The first hash for the Scikit-Learn dependency is:<br />\n",
    "`sha256:065e9673e24e0dc5113e2dd2b4ca30c9d8aa2fa90f4c0597241c93b63130d233`"
   ]
  },
  {
   "cell_type": "markdown",
   "id": "b6784bc3-f37d-43e8-90c6-56c93e72fb88",
   "metadata": {},
   "source": [
    "## Q5"
   ]
  },
  {
   "cell_type": "markdown",
   "id": "152dc56d-b8aa-4cd6-a8d3-3c5e1dac39ff",
   "metadata": {},
   "source": [
    "The mean predicted duration for March 2022 is:<br/>\n",
    "`12.758556818790902`"
   ]
  },
  {
   "cell_type": "markdown",
   "id": "4f8d308e-7bcc-4c29-bfb7-61f838342ebd",
   "metadata": {},
   "source": [
    "## Q6"
   ]
  },
  {
   "cell_type": "markdown",
   "id": "b2848c4a-7bf7-417e-b9cb-ff34d4bec923",
   "metadata": {},
   "source": [
    "Build the docker image:"
   ]
  },
  {
   "cell_type": "code",
   "execution_count": null,
   "id": "96bf1269-c5e0-4ea6-8007-0816224cf562",
   "metadata": {},
   "outputs": [],
   "source": [
    "!docker build -t ride-duration-prediction-service:v1 ."
   ]
  },
  {
   "cell_type": "markdown",
   "id": "17d08697-8a72-4cbd-a40c-6d1469467e68",
   "metadata": {},
   "source": [
    "Run the docker container:"
   ]
  },
  {
   "cell_type": "code",
   "execution_count": null,
   "id": "d85caf6e-17e8-453a-ae2e-7f1676cc319f",
   "metadata": {},
   "outputs": [],
   "source": [
    "!docker run -it --rm -p 9696 ride-duration-prediction-service:v1"
   ]
  },
  {
   "cell_type": "markdown",
   "id": "92a28a2a-f82d-45fd-81e9-0bb72ee0ec24",
   "metadata": {},
   "source": [
    "The mean predicted duration for April 2022:<br />\n",
    "`12.827242870079969`"
   ]
  }
 ],
 "metadata": {
  "kernelspec": {
   "display_name": "Python 3 (ipykernel)",
   "language": "python",
   "name": "python3"
  },
  "language_info": {
   "codemirror_mode": {
    "name": "ipython",
    "version": 3
   },
   "file_extension": ".py",
   "mimetype": "text/x-python",
   "name": "python",
   "nbconvert_exporter": "python",
   "pygments_lexer": "ipython3",
   "version": "3.10.10"
  }
 },
 "nbformat": 4,
 "nbformat_minor": 5
}
