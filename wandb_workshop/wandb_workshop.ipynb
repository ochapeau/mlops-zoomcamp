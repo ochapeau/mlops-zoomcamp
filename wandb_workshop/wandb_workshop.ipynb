{
 "cells": [
  {
   "cell_type": "markdown",
   "id": "f8869d5b-a447-4477-a096-402c26aff361",
   "metadata": {},
   "source": [
    "# MLOps Zoomcamp wandb workshop"
   ]
  },
  {
   "cell_type": "code",
   "execution_count": 9,
   "id": "579b7554-eb92-4dcc-9ac4-691c78ebba3a",
   "metadata": {},
   "outputs": [],
   "source": [
    "import os, sys\n",
    "from dotenv import load_dotenv\n",
    "from pathlib import Path\n",
    "import requests"
   ]
  },
  {
   "cell_type": "code",
   "execution_count": 12,
   "id": "125cfff3-8be6-4c5d-8373-5ea82817b63c",
   "metadata": {},
   "outputs": [],
   "source": [
    "from typing import List"
   ]
  },
  {
   "cell_type": "code",
   "execution_count": 2,
   "id": "667b4f80-d6a4-452e-806a-0402746cbd1b",
   "metadata": {},
   "outputs": [],
   "source": [
    "import pandas as pd\n",
    "import matplotlib.pyplot as plt\n",
    "%matplotlib inline"
   ]
  },
  {
   "cell_type": "code",
   "execution_count": 3,
   "id": "f961d527-1604-494c-a908-b737180a8ed0",
   "metadata": {},
   "outputs": [],
   "source": [
    "# Define some paths\n",
    "base_dir = Path(os.getcwd())\n",
    "scripts_dir = base_dir / \"homework\"\n",
    "data_dir = base_dir / \"data\"\n",
    "output_dir = base_dir  / \"output\""
   ]
  },
  {
   "cell_type": "code",
   "execution_count": 35,
   "id": "5a7472f1-6559-49b5-b55a-858c50675ccb",
   "metadata": {},
   "outputs": [],
   "source": [
    "# Define some notebook variables\n",
    "redownload_data = False"
   ]
  },
  {
   "cell_type": "code",
   "execution_count": 4,
   "id": "b2da949f-3cbb-47b8-bd96-747c64b9111a",
   "metadata": {},
   "outputs": [
    {
     "name": "stdout",
     "output_type": "stream",
     "text": [
      "WANDB_PROJECT_NAME: mlops-zoomcamp-workshop\n",
      "WANDB_USERNAME: ochapeau\n"
     ]
    }
   ],
   "source": [
    "# loading wandb variables\n",
    "load_dotenv()\n",
    "WANDB_PROJECT_NAME = os.getenv(\"WANDB_PROJECT_NAME\")\n",
    "WANDB_USERNAME = os.getenv(\"WANDB_USERNAME\")\n",
    "print(f\"WANDB_PROJECT_NAME: {WANDB_PROJECT_NAME}\")\n",
    "print(f\"WANDB_USERNAME: {WANDB_USERNAME}\")"
   ]
  },
  {
   "cell_type": "markdown",
   "id": "1a06ca9e-3af8-4788-80f4-a28078d8c955",
   "metadata": {},
   "source": [
    "# Q1"
   ]
  },
  {
   "cell_type": "code",
   "execution_count": 5,
   "id": "35a428bc-7b10-4077-8b0f-3044cd94dce5",
   "metadata": {},
   "outputs": [
    {
     "name": "stdout",
     "output_type": "stream",
     "text": [
      "wandb, version 0.15.3\n"
     ]
    }
   ],
   "source": [
    "!wandb --version"
   ]
  },
  {
   "cell_type": "markdown",
   "id": "e6380d62-f7a1-4f57-a936-ab4fbc56adbe",
   "metadata": {},
   "source": [
    "# Q2"
   ]
  },
  {
   "cell_type": "markdown",
   "id": "f77d0555-f018-4415-a03d-a57a09515e5f",
   "metadata": {},
   "source": [
    "## Downloading data"
   ]
  },
  {
   "cell_type": "code",
   "execution_count": 6,
   "id": "88e366d8-8001-45de-beab-3cb3edc296fd",
   "metadata": {},
   "outputs": [],
   "source": [
    "data_urls = [\n",
    "    \"https://d37ci6vzurychx.cloudfront.net/trip-data/green_tripdata_2022-01.parquet\",\n",
    "    \"https://d37ci6vzurychx.cloudfront.net/trip-data/green_tripdata_2022-02.parquet\",\n",
    "    \"https://d37ci6vzurychx.cloudfront.net/trip-data/green_tripdata_2022-03.parquet\"\n",
    "]"
   ]
  },
  {
   "cell_type": "code",
   "execution_count": 25,
   "id": "3536093d-351d-4bdb-a533-ebf9c76a9fa5",
   "metadata": {},
   "outputs": [],
   "source": [
    "def download_data(data_urls: List[str], data_dir: Path):\n",
    "    for url in data_urls:\n",
    "        r = requests.get(url, stream=True)\n",
    "        filename = data_dir / Path(url).name\n",
    "        with open(filename, \"wb\") as file:\n",
    "            for chunk in r.iter_content(chunk_size=1024):\n",
    "                # writing one chunk at a time to the file\n",
    "                if chunk:\n",
    "                    file.write(chunk)\n",
    "        print(f\"{filename} downloaded!\")"
   ]
  },
  {
   "cell_type": "code",
   "execution_count": 29,
   "id": "7975732b-da3d-4c96-ae34-8057c23ed2a2",
   "metadata": {},
   "outputs": [
    {
     "name": "stdout",
     "output_type": "stream",
     "text": [
      "\"/Users/olivier/Documents/courses/mlops-zoomcamp/wandb_workshop/data\" already exists!\n"
     ]
    }
   ],
   "source": [
    "if data_dir.exists() and data_dir.is_file():\n",
    "    print(f\"Error: {data_dir} is a file!\", file=sys.stderr)\n",
    "elif not data_dir.is_dir():\n",
    "    os.mkdir(data_dir)\n",
    "    print(f\"\\\"{data_dir}\\\" directory created!\")\n",
    "    download_data(data_urls, data_dir)\n",
    "else:\n",
    "    print(f\"\\\"{data_dir}\\\" already exists!\")"
   ]
  },
  {
   "cell_type": "code",
   "execution_count": 30,
   "id": "15bbec81-7aa3-477a-b03d-152ee7b9034d",
   "metadata": {},
   "outputs": [],
   "source": [
    "if redownload_data:\n",
    "    download_data(data_urls, data_dir)"
   ]
  },
  {
   "cell_type": "markdown",
   "id": "fe6466f5-d4f0-405e-8ae5-091fe1d4578c",
   "metadata": {},
   "source": [
    "## Preprocessing the data"
   ]
  },
  {
   "cell_type": "code",
   "execution_count": 31,
   "id": "cc6eaf20-e0b9-4df4-a331-ee1bd1c2c99f",
   "metadata": {},
   "outputs": [
    {
     "name": "stdout",
     "output_type": "stream",
     "text": [
      "\u001b[34m\u001b[1mwandb\u001b[0m: Currently logged in as: \u001b[33mochapeau\u001b[0m. Use \u001b[1m`wandb login --relogin`\u001b[0m to force relogin\n",
      "\u001b[34m\u001b[1mwandb\u001b[0m: Tracking run with wandb version 0.15.3\n",
      "\u001b[34m\u001b[1mwandb\u001b[0m: Run data is saved locally in \u001b[35m\u001b[1m/Users/olivier/Documents/courses/mlops-zoomcamp/wandb_workshop/homework/wandb/run-20230605_163816-55gqdnds\u001b[0m\n",
      "\u001b[34m\u001b[1mwandb\u001b[0m: Run \u001b[1m`wandb offline`\u001b[0m to turn off syncing.\n",
      "\u001b[34m\u001b[1mwandb\u001b[0m: Syncing run \u001b[33mscarlet-disco-3\u001b[0m\n",
      "\u001b[34m\u001b[1mwandb\u001b[0m: ⭐️ View project at \u001b[34m\u001b[4mhttps://wandb.ai/ochapeau/mlops-zoomcamp-workshop\u001b[0m\n",
      "\u001b[34m\u001b[1mwandb\u001b[0m: 🚀 View run at \u001b[34m\u001b[4mhttps://wandb.ai/ochapeau/mlops-zoomcamp-workshop/runs/55gqdnds\u001b[0m\n",
      "\u001b[34m\u001b[1mwandb\u001b[0m: Adding directory to artifact (/Users/olivier/Documents/courses/mlops-zoomcamp/wandb_workshop/output)... Done. 0.0s\n",
      "\u001b[34m\u001b[1mwandb\u001b[0m: Waiting for W&B process to finish... \u001b[32m(success).\u001b[0m\n",
      "\u001b[34m\u001b[1mwandb\u001b[0m: 🚀 View run \u001b[33mscarlet-disco-3\u001b[0m at: \u001b[34m\u001b[4mhttps://wandb.ai/ochapeau/mlops-zoomcamp-workshop/runs/55gqdnds\u001b[0m\n",
      "\u001b[34m\u001b[1mwandb\u001b[0m: Synced 5 W&B file(s), 0 media file(s), 2 artifact file(s) and 0 other file(s)\n",
      "\u001b[34m\u001b[1mwandb\u001b[0m: Find logs at: \u001b[35m\u001b[1m./wandb/run-20230605_163816-55gqdnds/logs\u001b[0m\n"
     ]
    }
   ],
   "source": [
    "# Run the preprocess_data script\n",
    "os.chdir(scripts_dir)\n",
    "!python preprocess_data.py --wandb_project {WANDB_PROJECT_NAME} --wandb_entity {WANDB_USERNAME} --raw_data_path {data_dir} --dest_path {output_dir}\n",
    "os.chdir(base_dir)"
   ]
  },
  {
   "cell_type": "markdown",
   "id": "de5b7091-64a5-4878-8f7e-69a97df795d1",
   "metadata": {},
   "source": [
    "## Size of the DictVectorizer"
   ]
  },
  {
   "cell_type": "markdown",
   "id": "7bdd91da-d3fb-4d05-9238-f5de6e24404a",
   "metadata": {},
   "source": [
    "Screenshot of the **Artifacts** -> **Files** from the wandb project\n",
    "![files tab from artifacts](images/q2.png)\n",
    "The size of the saved `DictVectorizer` file (`dv.pkl`) is 153.7 KB"
   ]
  },
  {
   "cell_type": "markdown",
   "id": "1768ed7c-c2fa-4d80-8b46-4adf71c94e6b",
   "metadata": {},
   "source": [
    "# Q3"
   ]
  },
  {
   "cell_type": "markdown",
   "id": "7652fecf-a428-40b7-8273-79da78631ba7",
   "metadata": {},
   "source": [
    "## Training the model"
   ]
  },
  {
   "cell_type": "code",
   "execution_count": 32,
   "id": "a86b934f-fc17-4dc5-b7a8-0861238cbb06",
   "metadata": {},
   "outputs": [],
   "source": [
    "data_artifact = f\"{WANDB_USERNAME}/{WANDB_PROJECT_NAME}/NYC-Taxi:v0\""
   ]
  },
  {
   "cell_type": "code",
   "execution_count": 33,
   "id": "c9b2a85e-1656-4c25-8b82-8a7606f5cf81",
   "metadata": {},
   "outputs": [
    {
     "name": "stdout",
     "output_type": "stream",
     "text": [
      "\u001b[34m\u001b[1mwandb\u001b[0m: Currently logged in as: \u001b[33mochapeau\u001b[0m. Use \u001b[1m`wandb login --relogin`\u001b[0m to force relogin\n",
      "\u001b[34m\u001b[1mwandb\u001b[0m: Tracking run with wandb version 0.15.3\n",
      "\u001b[34m\u001b[1mwandb\u001b[0m: Run data is saved locally in \u001b[35m\u001b[1m/Users/olivier/Documents/courses/mlops-zoomcamp/wandb_workshop/homework/wandb/run-20230605_163947-idf0thr2\u001b[0m\n",
      "\u001b[34m\u001b[1mwandb\u001b[0m: Run \u001b[1m`wandb offline`\u001b[0m to turn off syncing.\n",
      "\u001b[34m\u001b[1mwandb\u001b[0m: Syncing run \u001b[33micy-thunder-4\u001b[0m\n",
      "\u001b[34m\u001b[1mwandb\u001b[0m: ⭐️ View project at \u001b[34m\u001b[4mhttps://wandb.ai/ochapeau/mlops-zoomcamp-workshop\u001b[0m\n",
      "\u001b[34m\u001b[1mwandb\u001b[0m: 🚀 View run at \u001b[34m\u001b[4mhttps://wandb.ai/ochapeau/mlops-zoomcamp-workshop/runs/idf0thr2\u001b[0m\n",
      "\u001b[34m\u001b[1mwandb\u001b[0m:   4 of 4 files downloaded.  \n",
      "\u001b[34m\u001b[1mwandb\u001b[0m: Waiting for W&B process to finish... \u001b[32m(success).\u001b[0m\n",
      "\u001b[34m\u001b[1mwandb\u001b[0m: 🚀 View run \u001b[33micy-thunder-4\u001b[0m at: \u001b[34m\u001b[4mhttps://wandb.ai/ochapeau/mlops-zoomcamp-workshop/runs/idf0thr2\u001b[0m\n",
      "\u001b[34m\u001b[1mwandb\u001b[0m: Synced 5 W&B file(s), 0 media file(s), 0 artifact file(s) and 0 other file(s)\n",
      "\u001b[34m\u001b[1mwandb\u001b[0m: Find logs at: \u001b[35m\u001b[1m./wandb/run-20230605_163947-idf0thr2/logs\u001b[0m\n"
     ]
    }
   ],
   "source": [
    "# Run the train script\n",
    "os.chdir(scripts_dir)\n",
    "!python train.py --wandb_project {WANDB_PROJECT_NAME} --wandb_entity {WANDB_USERNAME} --data_artifact {data_artifact}\n",
    "os.chdir(base_dir)"
   ]
  },
  {
   "cell_type": "markdown",
   "id": "bc1d5301-3c7a-4f2f-88ba-3d6da3895c38",
   "metadata": {},
   "source": [
    "## Value of the `max_depth` parameter"
   ]
  },
  {
   "cell_type": "markdown",
   "id": "288ea5d3-edfe-4fdb-93bc-049b3d578556",
   "metadata": {},
   "source": [
    "Screenshot of the **Overview** -> **Config** from the wandb run\n",
    "![wandb run config](images/q3.png)\n",
    "The value of the saved `max_depth` parameter is 10"
   ]
  },
  {
   "cell_type": "markdown",
   "id": "19cef04e-c06d-4297-b552-f0cb71b76477",
   "metadata": {},
   "source": [
    "# Q4"
   ]
  },
  {
   "cell_type": "markdown",
   "id": "76d0156d-c233-4c08-be50-3bd072064c2e",
   "metadata": {},
   "source": [
    "## Tuning the model hyperparameters"
   ]
  },
  {
   "cell_type": "code",
   "execution_count": 34,
   "id": "b4c0d588-8506-4bbf-9853-28c9dd461945",
   "metadata": {},
   "outputs": [
    {
     "name": "stdout",
     "output_type": "stream",
     "text": [
      "Create sweep with ID: f1hcs5g6\n",
      "Sweep URL: https://wandb.ai/ochapeau/mlops-zoomcamp-workshop/sweeps/f1hcs5g6\n",
      "\u001b[34m\u001b[1mwandb\u001b[0m: Agent Starting Run: l20zrsn4 with config:\n",
      "\u001b[34m\u001b[1mwandb\u001b[0m: \tmax_depth: 14\n",
      "\u001b[34m\u001b[1mwandb\u001b[0m: \tmin_samples_leaf: 3\n",
      "\u001b[34m\u001b[1mwandb\u001b[0m: \tmin_samples_split: 3\n",
      "\u001b[34m\u001b[1mwandb\u001b[0m: \tn_estimators: 45\n",
      "\u001b[34m\u001b[1mwandb\u001b[0m: Currently logged in as: \u001b[33mochapeau\u001b[0m. Use \u001b[1m`wandb login --relogin`\u001b[0m to force relogin\n",
      "\u001b[34m\u001b[1mwandb\u001b[0m: Tracking run with wandb version 0.15.3\n",
      "\u001b[34m\u001b[1mwandb\u001b[0m: Run data is saved locally in \u001b[35m\u001b[1m/Users/olivier/Documents/courses/mlops-zoomcamp/wandb_workshop/homework/wandb/run-20230605_170418-l20zrsn4\u001b[0m\n",
      "\u001b[34m\u001b[1mwandb\u001b[0m: Run \u001b[1m`wandb offline`\u001b[0m to turn off syncing.\n",
      "\u001b[34m\u001b[1mwandb\u001b[0m: Syncing run \u001b[33mdevoted-sweep-1\u001b[0m\n",
      "\u001b[34m\u001b[1mwandb\u001b[0m: ⭐️ View project at \u001b[34m\u001b[4mhttps://wandb.ai/ochapeau/mlops-zoomcamp-workshop\u001b[0m\n",
      "\u001b[34m\u001b[1mwandb\u001b[0m: 🧹 View sweep at \u001b[34m\u001b[4mhttps://wandb.ai/ochapeau/mlops-zoomcamp-workshop/sweeps/f1hcs5g6\u001b[0m\n",
      "\u001b[34m\u001b[1mwandb\u001b[0m: 🚀 View run at \u001b[34m\u001b[4mhttps://wandb.ai/ochapeau/mlops-zoomcamp-workshop/runs/l20zrsn4\u001b[0m\n",
      "\u001b[34m\u001b[1mwandb\u001b[0m:   4 of 4 files downloaded.  \n",
      "\u001b[34m\u001b[1mwandb\u001b[0m: Waiting for W&B process to finish... \u001b[32m(success).\u001b[0m\n",
      "\u001b[34m\u001b[1mwandb\u001b[0m: \n",
      "\u001b[34m\u001b[1mwandb\u001b[0m: Run history:\n",
      "\u001b[34m\u001b[1mwandb\u001b[0m: MSE ▁\n",
      "\u001b[34m\u001b[1mwandb\u001b[0m: \n",
      "\u001b[34m\u001b[1mwandb\u001b[0m: Run summary:\n",
      "\u001b[34m\u001b[1mwandb\u001b[0m: MSE 2.44827\n",
      "\u001b[34m\u001b[1mwandb\u001b[0m: \n",
      "\u001b[34m\u001b[1mwandb\u001b[0m: 🚀 View run \u001b[33mdevoted-sweep-1\u001b[0m at: \u001b[34m\u001b[4mhttps://wandb.ai/ochapeau/mlops-zoomcamp-workshop/runs/l20zrsn4\u001b[0m\n",
      "\u001b[34m\u001b[1mwandb\u001b[0m: Synced 5 W&B file(s), 0 media file(s), 1 artifact file(s) and 0 other file(s)\n",
      "\u001b[34m\u001b[1mwandb\u001b[0m: Find logs at: \u001b[35m\u001b[1m./wandb/run-20230605_170418-l20zrsn4/logs\u001b[0m\n",
      "\u001b[34m\u001b[1mwandb\u001b[0m: Agent Starting Run: gdujq0hj with config:\n",
      "\u001b[34m\u001b[1mwandb\u001b[0m: \tmax_depth: 7\n",
      "\u001b[34m\u001b[1mwandb\u001b[0m: \tmin_samples_leaf: 1\n",
      "\u001b[34m\u001b[1mwandb\u001b[0m: \tmin_samples_split: 3\n",
      "\u001b[34m\u001b[1mwandb\u001b[0m: \tn_estimators: 21\n",
      "\u001b[34m\u001b[1mwandb\u001b[0m: Tracking run with wandb version 0.15.3\n",
      "\u001b[34m\u001b[1mwandb\u001b[0m: Run data is saved locally in \u001b[35m\u001b[1m/Users/olivier/Documents/courses/mlops-zoomcamp/wandb_workshop/homework/wandb/run-20230605_170440-gdujq0hj\u001b[0m\n",
      "\u001b[34m\u001b[1mwandb\u001b[0m: Run \u001b[1m`wandb offline`\u001b[0m to turn off syncing.\n",
      "\u001b[34m\u001b[1mwandb\u001b[0m: Syncing run \u001b[33mconfused-sweep-2\u001b[0m\n",
      "\u001b[34m\u001b[1mwandb\u001b[0m: ⭐️ View project at \u001b[34m\u001b[4mhttps://wandb.ai/ochapeau/mlops-zoomcamp-workshop\u001b[0m\n",
      "\u001b[34m\u001b[1mwandb\u001b[0m: 🧹 View sweep at \u001b[34m\u001b[4mhttps://wandb.ai/ochapeau/mlops-zoomcamp-workshop/sweeps/f1hcs5g6\u001b[0m\n",
      "\u001b[34m\u001b[1mwandb\u001b[0m: 🚀 View run at \u001b[34m\u001b[4mhttps://wandb.ai/ochapeau/mlops-zoomcamp-workshop/runs/gdujq0hj\u001b[0m\n",
      "\u001b[34m\u001b[1mwandb\u001b[0m:   4 of 4 files downloaded.  \n",
      "\u001b[34m\u001b[1mwandb\u001b[0m: Waiting for W&B process to finish... \u001b[32m(success).\u001b[0m\n",
      "\u001b[34m\u001b[1mwandb\u001b[0m: \n",
      "\u001b[34m\u001b[1mwandb\u001b[0m: Run history:\n",
      "\u001b[34m\u001b[1mwandb\u001b[0m: MSE ▁\n",
      "\u001b[34m\u001b[1mwandb\u001b[0m: \n",
      "\u001b[34m\u001b[1mwandb\u001b[0m: Run summary:\n",
      "\u001b[34m\u001b[1mwandb\u001b[0m: MSE 2.4565\n",
      "\u001b[34m\u001b[1mwandb\u001b[0m: \n",
      "\u001b[34m\u001b[1mwandb\u001b[0m: 🚀 View run \u001b[33mconfused-sweep-2\u001b[0m at: \u001b[34m\u001b[4mhttps://wandb.ai/ochapeau/mlops-zoomcamp-workshop/runs/gdujq0hj\u001b[0m\n",
      "\u001b[34m\u001b[1mwandb\u001b[0m: Synced 5 W&B file(s), 0 media file(s), 1 artifact file(s) and 0 other file(s)\n",
      "\u001b[34m\u001b[1mwandb\u001b[0m: Find logs at: \u001b[35m\u001b[1m./wandb/run-20230605_170440-gdujq0hj/logs\u001b[0m\n",
      "\u001b[34m\u001b[1mwandb\u001b[0m: Agent Starting Run: ry5nyjj7 with config:\n",
      "\u001b[34m\u001b[1mwandb\u001b[0m: \tmax_depth: 10\n",
      "\u001b[34m\u001b[1mwandb\u001b[0m: \tmin_samples_leaf: 4\n",
      "\u001b[34m\u001b[1mwandb\u001b[0m: \tmin_samples_split: 6\n",
      "\u001b[34m\u001b[1mwandb\u001b[0m: \tn_estimators: 17\n",
      "\u001b[34m\u001b[1mwandb\u001b[0m: Tracking run with wandb version 0.15.3\n",
      "\u001b[34m\u001b[1mwandb\u001b[0m: Run data is saved locally in \u001b[35m\u001b[1m/Users/olivier/Documents/courses/mlops-zoomcamp/wandb_workshop/homework/wandb/run-20230605_170456-ry5nyjj7\u001b[0m\n",
      "\u001b[34m\u001b[1mwandb\u001b[0m: Run \u001b[1m`wandb offline`\u001b[0m to turn off syncing.\n",
      "\u001b[34m\u001b[1mwandb\u001b[0m: Syncing run \u001b[33mleafy-sweep-3\u001b[0m\n",
      "\u001b[34m\u001b[1mwandb\u001b[0m: ⭐️ View project at \u001b[34m\u001b[4mhttps://wandb.ai/ochapeau/mlops-zoomcamp-workshop\u001b[0m\n",
      "\u001b[34m\u001b[1mwandb\u001b[0m: 🧹 View sweep at \u001b[34m\u001b[4mhttps://wandb.ai/ochapeau/mlops-zoomcamp-workshop/sweeps/f1hcs5g6\u001b[0m\n",
      "\u001b[34m\u001b[1mwandb\u001b[0m: 🚀 View run at \u001b[34m\u001b[4mhttps://wandb.ai/ochapeau/mlops-zoomcamp-workshop/runs/ry5nyjj7\u001b[0m\n",
      "\u001b[34m\u001b[1mwandb\u001b[0m:   4 of 4 files downloaded.  \n",
      "\u001b[34m\u001b[1mwandb\u001b[0m: Waiting for W&B process to finish... \u001b[32m(success).\u001b[0m\n",
      "\u001b[34m\u001b[1mwandb\u001b[0m: \n",
      "\u001b[34m\u001b[1mwandb\u001b[0m: Run history:\n",
      "\u001b[34m\u001b[1mwandb\u001b[0m: MSE ▁\n",
      "\u001b[34m\u001b[1mwandb\u001b[0m: \n",
      "\u001b[34m\u001b[1mwandb\u001b[0m: Run summary:\n",
      "\u001b[34m\u001b[1mwandb\u001b[0m: MSE 2.4539\n",
      "\u001b[34m\u001b[1mwandb\u001b[0m: \n",
      "\u001b[34m\u001b[1mwandb\u001b[0m: 🚀 View run \u001b[33mleafy-sweep-3\u001b[0m at: \u001b[34m\u001b[4mhttps://wandb.ai/ochapeau/mlops-zoomcamp-workshop/runs/ry5nyjj7\u001b[0m\n",
      "\u001b[34m\u001b[1mwandb\u001b[0m: Synced 5 W&B file(s), 0 media file(s), 1 artifact file(s) and 0 other file(s)\n",
      "\u001b[34m\u001b[1mwandb\u001b[0m: Find logs at: \u001b[35m\u001b[1m./wandb/run-20230605_170456-ry5nyjj7/logs\u001b[0m\n",
      "\u001b[34m\u001b[1mwandb\u001b[0m: Agent Starting Run: qfyehzxt with config:\n",
      "\u001b[34m\u001b[1mwandb\u001b[0m: \tmax_depth: 8\n",
      "\u001b[34m\u001b[1mwandb\u001b[0m: \tmin_samples_leaf: 2\n",
      "\u001b[34m\u001b[1mwandb\u001b[0m: \tmin_samples_split: 7\n",
      "\u001b[34m\u001b[1mwandb\u001b[0m: \tn_estimators: 50\n",
      "\u001b[34m\u001b[1mwandb\u001b[0m: Tracking run with wandb version 0.15.3\n",
      "\u001b[34m\u001b[1mwandb\u001b[0m: Run data is saved locally in \u001b[35m\u001b[1m/Users/olivier/Documents/courses/mlops-zoomcamp/wandb_workshop/homework/wandb/run-20230605_170512-qfyehzxt\u001b[0m\n",
      "\u001b[34m\u001b[1mwandb\u001b[0m: Run \u001b[1m`wandb offline`\u001b[0m to turn off syncing.\n",
      "\u001b[34m\u001b[1mwandb\u001b[0m: Syncing run \u001b[33mcharmed-sweep-4\u001b[0m\n",
      "\u001b[34m\u001b[1mwandb\u001b[0m: ⭐️ View project at \u001b[34m\u001b[4mhttps://wandb.ai/ochapeau/mlops-zoomcamp-workshop\u001b[0m\n",
      "\u001b[34m\u001b[1mwandb\u001b[0m: 🧹 View sweep at \u001b[34m\u001b[4mhttps://wandb.ai/ochapeau/mlops-zoomcamp-workshop/sweeps/f1hcs5g6\u001b[0m\n",
      "\u001b[34m\u001b[1mwandb\u001b[0m: 🚀 View run at \u001b[34m\u001b[4mhttps://wandb.ai/ochapeau/mlops-zoomcamp-workshop/runs/qfyehzxt\u001b[0m\n",
      "\u001b[34m\u001b[1mwandb\u001b[0m:   4 of 4 files downloaded.  \n",
      "\u001b[34m\u001b[1mwandb\u001b[0m: Waiting for W&B process to finish... \u001b[32m(success).\u001b[0m\n",
      "\u001b[34m\u001b[1mwandb\u001b[0m: \n",
      "\u001b[34m\u001b[1mwandb\u001b[0m: Run history:\n",
      "\u001b[34m\u001b[1mwandb\u001b[0m: MSE ▁\n",
      "\u001b[34m\u001b[1mwandb\u001b[0m: \n",
      "\u001b[34m\u001b[1mwandb\u001b[0m: Run summary:\n",
      "\u001b[34m\u001b[1mwandb\u001b[0m: MSE 2.45521\n",
      "\u001b[34m\u001b[1mwandb\u001b[0m: \n",
      "\u001b[34m\u001b[1mwandb\u001b[0m: 🚀 View run \u001b[33mcharmed-sweep-4\u001b[0m at: \u001b[34m\u001b[4mhttps://wandb.ai/ochapeau/mlops-zoomcamp-workshop/runs/qfyehzxt\u001b[0m\n",
      "\u001b[34m\u001b[1mwandb\u001b[0m: Synced 5 W&B file(s), 0 media file(s), 1 artifact file(s) and 0 other file(s)\n",
      "\u001b[34m\u001b[1mwandb\u001b[0m: Find logs at: \u001b[35m\u001b[1m./wandb/run-20230605_170512-qfyehzxt/logs\u001b[0m\n",
      "\u001b[34m\u001b[1mwandb\u001b[0m: Agent Starting Run: d4ut6e1i with config:\n",
      "\u001b[34m\u001b[1mwandb\u001b[0m: \tmax_depth: 17\n",
      "\u001b[34m\u001b[1mwandb\u001b[0m: \tmin_samples_leaf: 3\n",
      "\u001b[34m\u001b[1mwandb\u001b[0m: \tmin_samples_split: 8\n",
      "\u001b[34m\u001b[1mwandb\u001b[0m: \tn_estimators: 12\n",
      "\u001b[34m\u001b[1mwandb\u001b[0m: Tracking run with wandb version 0.15.3\n",
      "\u001b[34m\u001b[1mwandb\u001b[0m: Run data is saved locally in \u001b[35m\u001b[1m/Users/olivier/Documents/courses/mlops-zoomcamp/wandb_workshop/homework/wandb/run-20230605_170528-d4ut6e1i\u001b[0m\n",
      "\u001b[34m\u001b[1mwandb\u001b[0m: Run \u001b[1m`wandb offline`\u001b[0m to turn off syncing.\n",
      "\u001b[34m\u001b[1mwandb\u001b[0m: Syncing run \u001b[33mastral-sweep-5\u001b[0m\n",
      "\u001b[34m\u001b[1mwandb\u001b[0m: ⭐️ View project at \u001b[34m\u001b[4mhttps://wandb.ai/ochapeau/mlops-zoomcamp-workshop\u001b[0m\n",
      "\u001b[34m\u001b[1mwandb\u001b[0m: 🧹 View sweep at \u001b[34m\u001b[4mhttps://wandb.ai/ochapeau/mlops-zoomcamp-workshop/sweeps/f1hcs5g6\u001b[0m\n",
      "\u001b[34m\u001b[1mwandb\u001b[0m: 🚀 View run at \u001b[34m\u001b[4mhttps://wandb.ai/ochapeau/mlops-zoomcamp-workshop/runs/d4ut6e1i\u001b[0m\n",
      "\u001b[34m\u001b[1mwandb\u001b[0m:   4 of 4 files downloaded.  \n",
      "\u001b[34m\u001b[1mwandb\u001b[0m: Waiting for W&B process to finish... \u001b[32m(success).\u001b[0m\n",
      "\u001b[34m\u001b[1mwandb\u001b[0m: \n",
      "\u001b[34m\u001b[1mwandb\u001b[0m: Run history:\n",
      "\u001b[34m\u001b[1mwandb\u001b[0m: MSE ▁\n",
      "\u001b[34m\u001b[1mwandb\u001b[0m: \n",
      "\u001b[34m\u001b[1mwandb\u001b[0m: Run summary:\n",
      "\u001b[34m\u001b[1mwandb\u001b[0m: MSE 2.45271\n",
      "\u001b[34m\u001b[1mwandb\u001b[0m: \n",
      "\u001b[34m\u001b[1mwandb\u001b[0m: 🚀 View run \u001b[33mastral-sweep-5\u001b[0m at: \u001b[34m\u001b[4mhttps://wandb.ai/ochapeau/mlops-zoomcamp-workshop/runs/d4ut6e1i\u001b[0m\n",
      "\u001b[34m\u001b[1mwandb\u001b[0m: Synced 5 W&B file(s), 0 media file(s), 1 artifact file(s) and 0 other file(s)\n",
      "\u001b[34m\u001b[1mwandb\u001b[0m: Find logs at: \u001b[35m\u001b[1m./wandb/run-20230605_170528-d4ut6e1i/logs\u001b[0m\n"
     ]
    }
   ],
   "source": [
    "# Run the sweep script\n",
    "os.chdir(scripts_dir)\n",
    "!python sweep.py --wandb_project {WANDB_PROJECT_NAME} --wandb_entity {WANDB_USERNAME} --data_artifact {data_artifact}\n",
    "os.chdir(base_dir)"
   ]
  },
  {
   "cell_type": "markdown",
   "id": "d0ec2684-d619-43e5-bc23-8a1aedbd612b",
   "metadata": {},
   "source": [
    "## Looking at the sweep"
   ]
  },
  {
   "cell_type": "markdown",
   "id": "51d4d599-98c1-4806-b37a-8658f3d3591a",
   "metadata": {},
   "source": [
    "Screenshot of the **Parameters importance panel wrt MSE** from the wandb sweep\n",
    "![parameter importance wrt MSE from wandb sweep](images/q4.png)\n",
    "The most important parameter is `max_depth`"
   ]
  },
  {
   "cell_type": "markdown",
   "id": "edb79921-dfa0-4e05-89a1-0a364d551f00",
   "metadata": {},
   "source": [
    "# Q5"
   ]
  },
  {
   "cell_type": "markdown",
   "id": "d1042950-3d4c-4f39-adfd-fee1db3a09da",
   "metadata": {},
   "source": [
    "## Link the best model to the model registry"
   ]
  },
  {
   "cell_type": "markdown",
   "id": "25d01db4-3954-4de2-9b9e-03679687b63b",
   "metadata": {},
   "source": [
    "Below are the screenshots of the best model in the registry\n",
    "![best model in registry version](images/q5_1.png)\n",
    "![pbest model in registry metadata](images/q5_2.png)\n",
    "We can see on them:\n",
    "- Versioning: Version 0 (first screenshot)\n",
    "- Metadata (second screenshot)\n",
    "- Aliases: @latest, @v0 (first screenshot)\n",
    "- Metric (MSE): ~2.4482 (second screenshot)\n",
    "- Source run: in \"Created By\" devoted-sweep-1 (first screenshot)"
   ]
  }
 ],
 "metadata": {
  "kernelspec": {
   "display_name": "wandb_workshop",
   "language": "python",
   "name": "wandb_workshop"
  },
  "language_info": {
   "codemirror_mode": {
    "name": "ipython",
    "version": 3
   },
   "file_extension": ".py",
   "mimetype": "text/x-python",
   "name": "python",
   "nbconvert_exporter": "python",
   "pygments_lexer": "ipython3",
   "version": "3.10.10"
  }
 },
 "nbformat": 4,
 "nbformat_minor": 5
}
